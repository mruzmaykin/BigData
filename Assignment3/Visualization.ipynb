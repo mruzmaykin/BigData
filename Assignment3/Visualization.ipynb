{
  "nbformat": 4,
  "nbformat_minor": 0,
  "metadata": {
    "colab": {
      "name": "Visualization",
      "provenance": [],
      "collapsed_sections": [],
      "include_colab_link": true
    },
    "kernelspec": {
      "name": "python3",
      "display_name": "Python 3"
    }
  },
  "cells": [
    {
      "cell_type": "markdown",
      "metadata": {
        "id": "view-in-github",
        "colab_type": "text"
      },
      "source": [
        "<a href=\"https://colab.research.google.com/github/mruzmaykin/BigData/blob/master/Assignment3/Visualization.ipynb\" target=\"_parent\"><img src=\"https://colab.research.google.com/assets/colab-badge.svg\" alt=\"Open In Colab\"/></a>"
      ]
    },
    {
      "cell_type": "code",
      "metadata": {
        "id": "WJu-HRN2hOYs",
        "colab_type": "code",
        "colab": {}
      },
      "source": [
        "import pandas as pd\n",
        "import numpy as np\n",
        "import matplotlib.pyplot as plt"
      ],
      "execution_count": 0,
      "outputs": []
    },
    {
      "cell_type": "code",
      "metadata": {
        "id": "sUrGzxZDji8g",
        "colab_type": "code",
        "colab": {}
      },
      "source": [
        "grades   = pd.read_csv('grades.csv')\n",
        "stocks  = pd.read_csv('SP500_ind.csv')"
      ],
      "execution_count": 0,
      "outputs": []
    },
    {
      "cell_type": "code",
      "metadata": {
        "id": "JLRByqkEjAVS",
        "colab_type": "code",
        "outputId": "ceb0e368-61dd-4376-dd3f-8ea91ac278de",
        "colab": {
          "base_uri": "https://localhost:8080/",
          "height": 288
        }
      },
      "source": [
        "\n",
        "column = grades.columns[21] # Weighted Total\n",
        "grades.boxplot(column)"
      ],
      "execution_count": 3,
      "outputs": [
        {
          "output_type": "execute_result",
          "data": {
            "text/plain": [
              "<matplotlib.axes._subplots.AxesSubplot at 0x7f7e852becf8>"
            ]
          },
          "metadata": {
            "tags": []
          },
          "execution_count": 3
        },
        {
          "output_type": "display_data",
          "data": {
            "image/png": "[encoded data removed]",
            "text/plain": [
              "<Figure size 432x288 with 1 Axes>"
            ]
          },
          "metadata": {
            "tags": []
          }
        }
      ]
    },
    {
      "cell_type": "code",
      "metadata": {
        "id": "UsVK5eFgmJCw",
        "colab_type": "code",
        "outputId": "9aa3b6ff-97d2-4ebb-ba4d-1d7d58f9f57d",
        "colab": {
          "base_uri": "https://localhost:8080/",
          "height": 341
        }
      },
      "source": [
        "index = grades.columns[9:14]\n",
        "hw = grades.loc[:,index]\n",
        "hw.columns=[\"Homework 1\",\"Homework 2\", \"Homework 3\", \"Homework 4\", \"Homework 5\"]\n",
        "hw.mean().plot.bar()\n"
      ],
      "execution_count": 4,
      "outputs": [
        {
          "output_type": "execute_result",
          "data": {
            "text/plain": [
              "<matplotlib.axes._subplots.AxesSubplot at 0x7f7e82a05630>"
            ]
          },
          "metadata": {
            "tags": []
          },
          "execution_count": 4
        },
        {
          "output_type": "display_data",
          "data": {
            "image/png": "[encoded data removed]",
            "text/plain": [
              "<Figure size 432x288 with 1 Axes>"
            ]
          },
          "metadata": {
            "tags": []
          }
        }
      ]
    },
    {
      "cell_type": "code",
      "metadata": {
        "id": "BfbhtbImsBTs",
        "colab_type": "code",
        "outputId": "8ccfd86e-4f58-4f9d-a08f-3b2cb8ca8b08",
        "colab": {
          "base_uri": "https://localhost:8080/",
          "height": 407
        }
      },
      "source": [
        "grades.describe()"
      ],
      "execution_count": 5,
      "outputs": [
        {
          "output_type": "execute_result",
          "data": {
            "text/html": [
              "<div>\n",
              "<style scoped>\n",
              "    .dataframe tbody tr th:only-of-type {\n",
              "        vertical-align: middle;\n",
              "    }\n",
              "\n",
              "    .dataframe tbody tr th {\n",
              "        vertical-align: top;\n",
              "    }\n",
              "\n",
              "    .dataframe thead th {\n",
              "        text-align: right;\n",
              "    }\n",
              "</style>\n",
              "<table border=\"1\" class=\"dataframe\">\n",
              "  <thead>\n",
              "    <tr style=\"text-align: right;\">\n",
              "      <th></th>\n",
              "      <th>Exercise 1 [Total Pts: 5 Score] |1292496</th>\n",
              "      <th>Exercise 2 [Total Pts: 5 Score] |1293779</th>\n",
              "      <th>Exercise 3 [Total Pts: 5 Score] |1295703</th>\n",
              "      <th>Exercise 4 [Total Pts: 5 Score] |1298674</th>\n",
              "      <th>Exercise 5 [Total Pts: 5 Score] |1305116</th>\n",
              "      <th>Exercise 6 [Total Pts: 5 Score] |1302431</th>\n",
              "      <th>Exercise 7 [Total Pts: 5 Score] |1309942</th>\n",
              "      <th>Exercise 8 [Total Pts: 5 Score] |1309952</th>\n",
              "      <th>Exercise 9 [Total Pts: 5 Score] |1309468</th>\n",
              "      <th>Homework 1 [Total Pts: 20 Score] |1293619</th>\n",
              "      <th>Homework 2 [Total Pts: 20 Score] |1297002</th>\n",
              "      <th>Homework 3 [Total Pts: 20 Score] |1301007</th>\n",
              "      <th>Homework 4 [Total Pts: 20 Score] |1308148</th>\n",
              "      <th>Homework 5 [Total Pts: 20 Score] |1311965</th>\n",
              "      <th>Project 1 [Total Pts: 50 Score] |1305663</th>\n",
              "      <th>Project 2 [Total Pts: 50 Score] |1309818</th>\n",
              "      <th>Quiz 1 [Total Pts: 50 Score] |1297564</th>\n",
              "      <th>Quiz 2 [Total Pts: 50 Score] |1299119</th>\n",
              "      <th>Q34-max [Total Pts: 50 Score] |1311917</th>\n",
              "      <th>Midterm [Total Pts: 100 Score] |1302009</th>\n",
              "      <th>Final [Total Pts: 100 Score] |1313303</th>\n",
              "      <th>Weighted Total [Total Pts: up to 77.25 Percentage] |1258242</th>\n",
              "      <th>Q-min [Total Pts: 50 Score] |1308090</th>\n",
              "      <th>Bonus [Total Pts: 10 Score] |1305932</th>\n",
              "    </tr>\n",
              "  </thead>\n",
              "  <tbody>\n",
              "    <tr>\n",
              "      <th>count</th>\n",
              "      <td>63.000000</td>\n",
              "      <td>63.000000</td>\n",
              "      <td>64.000000</td>\n",
              "      <td>60.000000</td>\n",
              "      <td>58.000000</td>\n",
              "      <td>63.0</td>\n",
              "      <td>62.000000</td>\n",
              "      <td>57.000000</td>\n",
              "      <td>59.000000</td>\n",
              "      <td>63.000000</td>\n",
              "      <td>63.000000</td>\n",
              "      <td>64.000000</td>\n",
              "      <td>64.000000</td>\n",
              "      <td>63.000000</td>\n",
              "      <td>64.000000</td>\n",
              "      <td>63.000000</td>\n",
              "      <td>64.000000</td>\n",
              "      <td>64.000000</td>\n",
              "      <td>64.000000</td>\n",
              "      <td>64.000000</td>\n",
              "      <td>63.000000</td>\n",
              "      <td>64.000000</td>\n",
              "      <td>64.000000</td>\n",
              "      <td>45.000000</td>\n",
              "    </tr>\n",
              "    <tr>\n",
              "      <th>mean</th>\n",
              "      <td>4.928571</td>\n",
              "      <td>4.333333</td>\n",
              "      <td>5.320312</td>\n",
              "      <td>4.383333</td>\n",
              "      <td>4.629310</td>\n",
              "      <td>5.0</td>\n",
              "      <td>4.112903</td>\n",
              "      <td>4.692982</td>\n",
              "      <td>4.483051</td>\n",
              "      <td>17.896825</td>\n",
              "      <td>18.428571</td>\n",
              "      <td>18.296875</td>\n",
              "      <td>14.351562</td>\n",
              "      <td>16.460317</td>\n",
              "      <td>43.140625</td>\n",
              "      <td>47.063492</td>\n",
              "      <td>42.750000</td>\n",
              "      <td>41.906250</td>\n",
              "      <td>39.968750</td>\n",
              "      <td>83.531250</td>\n",
              "      <td>79.158730</td>\n",
              "      <td>83.277207</td>\n",
              "      <td>28.781250</td>\n",
              "      <td>8.900000</td>\n",
              "    </tr>\n",
              "    <tr>\n",
              "      <th>std</th>\n",
              "      <td>1.007461</td>\n",
              "      <td>1.285778</td>\n",
              "      <td>0.788646</td>\n",
              "      <td>1.316025</td>\n",
              "      <td>1.279255</td>\n",
              "      <td>0.0</td>\n",
              "      <td>0.860896</td>\n",
              "      <td>1.577618</td>\n",
              "      <td>1.114041</td>\n",
              "      <td>2.161165</td>\n",
              "      <td>2.687872</td>\n",
              "      <td>2.768472</td>\n",
              "      <td>4.177300</td>\n",
              "      <td>4.034430</td>\n",
              "      <td>8.557680</td>\n",
              "      <td>6.397764</td>\n",
              "      <td>7.869471</td>\n",
              "      <td>5.551258</td>\n",
              "      <td>8.933562</td>\n",
              "      <td>12.187319</td>\n",
              "      <td>17.938251</td>\n",
              "      <td>12.283625</td>\n",
              "      <td>8.879205</td>\n",
              "      <td>1.452271</td>\n",
              "    </tr>\n",
              "    <tr>\n",
              "      <th>min</th>\n",
              "      <td>2.000000</td>\n",
              "      <td>0.000000</td>\n",
              "      <td>3.000000</td>\n",
              "      <td>0.000000</td>\n",
              "      <td>0.000000</td>\n",
              "      <td>5.0</td>\n",
              "      <td>1.000000</td>\n",
              "      <td>0.000000</td>\n",
              "      <td>0.000000</td>\n",
              "      <td>8.500000</td>\n",
              "      <td>0.000000</td>\n",
              "      <td>0.000000</td>\n",
              "      <td>0.000000</td>\n",
              "      <td>0.000000</td>\n",
              "      <td>0.000000</td>\n",
              "      <td>0.000000</td>\n",
              "      <td>22.000000</td>\n",
              "      <td>25.000000</td>\n",
              "      <td>16.000000</td>\n",
              "      <td>35.500000</td>\n",
              "      <td>0.000000</td>\n",
              "      <td>29.947610</td>\n",
              "      <td>0.000000</td>\n",
              "      <td>5.000000</td>\n",
              "    </tr>\n",
              "    <tr>\n",
              "      <th>25%</th>\n",
              "      <td>4.250000</td>\n",
              "      <td>4.000000</td>\n",
              "      <td>5.000000</td>\n",
              "      <td>4.000000</td>\n",
              "      <td>5.000000</td>\n",
              "      <td>5.0</td>\n",
              "      <td>4.000000</td>\n",
              "      <td>4.000000</td>\n",
              "      <td>4.500000</td>\n",
              "      <td>17.000000</td>\n",
              "      <td>18.000000</td>\n",
              "      <td>18.000000</td>\n",
              "      <td>12.500000</td>\n",
              "      <td>16.000000</td>\n",
              "      <td>41.750000</td>\n",
              "      <td>47.000000</td>\n",
              "      <td>39.250000</td>\n",
              "      <td>38.000000</td>\n",
              "      <td>34.500000</td>\n",
              "      <td>77.375000</td>\n",
              "      <td>70.000000</td>\n",
              "      <td>75.479163</td>\n",
              "      <td>25.750000</td>\n",
              "      <td>8.000000</td>\n",
              "    </tr>\n",
              "    <tr>\n",
              "      <th>50%</th>\n",
              "      <td>5.000000</td>\n",
              "      <td>4.000000</td>\n",
              "      <td>5.500000</td>\n",
              "      <td>5.000000</td>\n",
              "      <td>5.000000</td>\n",
              "      <td>5.0</td>\n",
              "      <td>4.250000</td>\n",
              "      <td>5.000000</td>\n",
              "      <td>5.000000</td>\n",
              "      <td>18.500000</td>\n",
              "      <td>19.000000</td>\n",
              "      <td>19.000000</td>\n",
              "      <td>15.500000</td>\n",
              "      <td>17.500000</td>\n",
              "      <td>45.000000</td>\n",
              "      <td>48.000000</td>\n",
              "      <td>44.500000</td>\n",
              "      <td>42.500000</td>\n",
              "      <td>41.000000</td>\n",
              "      <td>85.500000</td>\n",
              "      <td>85.000000</td>\n",
              "      <td>85.441665</td>\n",
              "      <td>29.000000</td>\n",
              "      <td>9.500000</td>\n",
              "    </tr>\n",
              "    <tr>\n",
              "      <th>75%</th>\n",
              "      <td>6.000000</td>\n",
              "      <td>5.000000</td>\n",
              "      <td>6.000000</td>\n",
              "      <td>5.000000</td>\n",
              "      <td>5.000000</td>\n",
              "      <td>5.0</td>\n",
              "      <td>5.000000</td>\n",
              "      <td>6.000000</td>\n",
              "      <td>5.000000</td>\n",
              "      <td>19.500000</td>\n",
              "      <td>19.500000</td>\n",
              "      <td>19.500000</td>\n",
              "      <td>17.500000</td>\n",
              "      <td>18.500000</td>\n",
              "      <td>48.000000</td>\n",
              "      <td>49.000000</td>\n",
              "      <td>48.125000</td>\n",
              "      <td>46.000000</td>\n",
              "      <td>49.250000</td>\n",
              "      <td>92.000000</td>\n",
              "      <td>92.000000</td>\n",
              "      <td>92.930203</td>\n",
              "      <td>34.250000</td>\n",
              "      <td>10.000000</td>\n",
              "    </tr>\n",
              "    <tr>\n",
              "      <th>max</th>\n",
              "      <td>6.000000</td>\n",
              "      <td>6.000000</td>\n",
              "      <td>6.000000</td>\n",
              "      <td>5.000000</td>\n",
              "      <td>5.000000</td>\n",
              "      <td>5.0</td>\n",
              "      <td>5.000000</td>\n",
              "      <td>6.000000</td>\n",
              "      <td>5.000000</td>\n",
              "      <td>20.000000</td>\n",
              "      <td>20.000000</td>\n",
              "      <td>20.000000</td>\n",
              "      <td>19.500000</td>\n",
              "      <td>20.000000</td>\n",
              "      <td>50.000000</td>\n",
              "      <td>50.000000</td>\n",
              "      <td>55.000000</td>\n",
              "      <td>50.000000</td>\n",
              "      <td>50.000000</td>\n",
              "      <td>100.000000</td>\n",
              "      <td>100.000000</td>\n",
              "      <td>98.691660</td>\n",
              "      <td>44.000000</td>\n",
              "      <td>10.000000</td>\n",
              "    </tr>\n",
              "  </tbody>\n",
              "</table>\n",
              "</div>"
            ],
            "text/plain": [
              "       Exercise 1 [Total Pts: 5 Score] |1292496  ...  Bonus [Total Pts: 10 Score] |1305932\n",
              "count                                 63.000000  ...                             45.000000\n",
              "mean                                   4.928571  ...                              8.900000\n",
              "std                                    1.007461  ...                              1.452271\n",
              "min                                    2.000000  ...                              5.000000\n",
              "25%                                    4.250000  ...                              8.000000\n",
              "50%                                    5.000000  ...                              9.500000\n",
              "75%                                    6.000000  ...                             10.000000\n",
              "max                                    6.000000  ...                             10.000000\n",
              "\n",
              "[8 rows x 24 columns]"
            ]
          },
          "metadata": {
            "tags": []
          },
          "execution_count": 5
        }
      ]
    },
    {
      "cell_type": "code",
      "metadata": {
        "id": "JfblZsXirjr1",
        "colab_type": "code",
        "outputId": "d2fbc9e9-0594-4246-e0f1-ec79c8d57001",
        "colab": {
          "base_uri": "https://localhost:8080/",
          "height": 269
        }
      },
      "source": [
        "x = grades[grades.columns[19]]\n",
        "y = grades[grades.columns[20]]\n",
        "\n",
        "\n",
        "\n",
        "plt.scatter(x, y)\n",
        "plt.show()"
      ],
      "execution_count": 6,
      "outputs": [
        {
          "output_type": "display_data",
          "data": {
            "image/png": "[encoded data removed]",
            "text/plain": [
              "<Figure size 432x288 with 1 Axes>"
            ]
          },
          "metadata": {
            "tags": []
          }
        }
      ]
    },
    {
      "cell_type": "code",
      "metadata": {
        "id": "ZYVQtpDduFdb",
        "colab_type": "code",
        "outputId": "0e2519fb-a6f5-4371-ecfa-90f3883fadbe",
        "colab": {
          "base_uri": "https://localhost:8080/",
          "height": 301
        }
      },
      "source": [
        "apple = stocks.loc[stocks['Symbol']=='AAPL',['Date','Close']]\n",
        "\n",
        "msft = stocks.loc[stocks['Symbol']=='MSFT',['Date','Close']]\n",
        "\n",
        "\n",
        "plt.plot('Date','Close',data=apple,linestyle='-', marker='o')\n",
        "plt.plot('Date','Close',data=msft,linestyle='-', marker='o')\n"
      ],
      "execution_count": 56,
      "outputs": [
        {
          "output_type": "execute_result",
          "data": {
            "text/plain": [
              "[<matplotlib.lines.Line2D at 0x7f7e82382ac8>]"
            ]
          },
          "metadata": {
            "tags": []
          },
          "execution_count": 56
        },
        {
          "output_type": "display_data",
          "data": {
            "image/png": "[encoded data removed]",
            "text/plain": [
              "<Figure size 432x288 with 1 Axes>"
            ]
          },
          "metadata": {
            "tags": []
          }
        }
      ]
    }
  ]
}